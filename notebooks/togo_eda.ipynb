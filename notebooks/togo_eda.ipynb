import pandas as pd
impor numpy as np
import matplotlib.pyplot as plt
import seaborn as sns
from scipy.stats import zscore
import scipy

# Set plot style
sns.set(style="whitegrid")
# Load Benin solar dataset
df = pd.read_csv('../data/togo_raw.csv', parse_dates=['Timestamp'])

# Show shape and top rows
print("Dataset shape:", df.shape)
df.head()
df.info()
# Summary stats
display(df.describe())

# Missing value report
missing = df.isna().sum().sort_values(ascending=False)
missing_pct = (df.isna().mean() * 100).sort_values(ascending=False)

missing_df = pd.DataFrame({
    "Missing Count": missing,
    "Missing Percentage (%)": missing_pct
})

missing_df[missing_df["Missing Percentage (%)"] > 0]
