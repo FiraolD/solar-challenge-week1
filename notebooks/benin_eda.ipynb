{
 "cells": [
  {
   "cell_type": "code",
   "execution_count": null,
   "id": "4cf9b726",
   "metadata": {},
   "outputs": [],
   "source": [
    "\n",
    "import pandas as pd\n",
    "impor numpy as np\n",
    "import matplotlib.pyplot as plt\n",
    "import seaborn as sns\n",
    "from scipy.stats import zscore\n",
    "import scipy\n",
    "\n",
    "# Set plot style\n",
    "sns.set(style=\"whitegrid\")\n",
    "# Load Benin solar dataset\n",
    "df = pd.read_csv('../data/benin_raw.csv', parse_dates=['Timestamp'])\n",
    "\n",
    "# Show shape and top rows\n",
    "print(\"Dataset shape:\", df.shape)\n",
    "df.head()\n",
    "df.info()\n",
    "# Summary stats\n",
    "display(df.describe())\n",
    "\n",
    "# Missing value report\n",
    "missing = df.isna().sum().sort_values(ascending=False)\n",
    "missing_pct = (df.isna().mean() * 100).sort_values(ascending=False)\n",
    "\n",
    "missing_df = pd.DataFrame({\n",
    "    \"Missing Count\": missing,\n",
    "    \"Missing Percentage (%)\": missing_pct\n",
    "})\n",
    "\n",
    "missing_df[missing_df[\"Missing Percentage (%)\"] > 0]\n"
   ]
  }
 ],
 "metadata": {
  "kernelspec": {
   "display_name": ".NET (C#)",
   "language": "C#",
   "name": ".net-csharp"
  },
  "language_info": {
   "name": "python"
  },
  "polyglot_notebook": {
   "kernelInfo": {
    "defaultKernelName": "csharp",
    "items": [
     {
      "aliases": [],
      "name": "csharp"
     }
    ]
   }
  }
 },
 "nbformat": 4,
 "nbformat_minor": 5
}
